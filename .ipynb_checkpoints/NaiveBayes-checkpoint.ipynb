{
 "cells": [
  {
   "cell_type": "markdown",
   "metadata": {},
   "source": [
    "Implement the Naive Bayes Classifier on the **Breast Cancer Wisconsin Dataset**."
   ]
  },
  {
   "cell_type": "markdown",
   "metadata": {},
   "source": [
    "## Breast Cancer Wisconsin Dataset\n",
    "\n",
    "This dataset is available as part of the datasets' database on ```scikit-learn```.\n",
    "\n",
    "Data was collected from 569 digitized image of a fine needle aspirate (FNA) of a breast mass. For each FNA image, 30 features were automatically extracted, including: average cell radius, average cell texture, average cell perimeter, average cell area, average cell smoothness, and 25 others.\n",
    "\n",
    "Let's load the dataset for a full description:"
   ]
  },
  {
   "cell_type": "code",
   "execution_count": 1,
   "metadata": {},
   "outputs": [],
   "source": [
    "from sklearn.datasets import load_breast_cancer\n",
    "\n",
    "import numpy as np\n",
    "\n",
    "import matplotlib.pyplot as plt\n",
    "%matplotlib inline\n",
    "plt.style.use('seaborn-colorblind')"
   ]
  },
  {
   "cell_type": "code",
   "execution_count": 2,
   "metadata": {},
   "outputs": [],
   "source": [
    "data = load_breast_cancer(return_X_y=False)"
   ]
  },
  {
   "cell_type": "code",
   "execution_count": 3,
   "metadata": {
    "scrolled": false
   },
   "outputs": [
    {
     "name": "stdout",
     "output_type": "stream",
     "text": [
      ".. _breast_cancer_dataset:\n",
      "\n",
      "Breast cancer wisconsin (diagnostic) dataset\n",
      "--------------------------------------------\n",
      "\n",
      "**Data Set Characteristics:**\n",
      "\n",
      "    :Number of Instances: 569\n",
      "\n",
      "    :Number of Attributes: 30 numeric, predictive attributes and the class\n",
      "\n",
      "    :Attribute Information:\n",
      "        - radius (mean of distances from center to points on the perimeter)\n",
      "        - texture (standard deviation of gray-scale values)\n",
      "        - perimeter\n",
      "        - area\n",
      "        - smoothness (local variation in radius lengths)\n",
      "        - compactness (perimeter^2 / area - 1.0)\n",
      "        - concavity (severity of concave portions of the contour)\n",
      "        - concave points (number of concave portions of the contour)\n",
      "        - symmetry\n",
      "        - fractal dimension (\"coastline approximation\" - 1)\n",
      "\n",
      "        The mean, standard error, and \"worst\" or largest (mean of the three\n",
      "        worst/largest values) of these features were computed for each image,\n",
      "        resulting in 30 features.  For instance, field 0 is Mean Radius, field\n",
      "        10 is Radius SE, field 20 is Worst Radius.\n",
      "\n",
      "        - class:\n",
      "                - WDBC-Malignant\n",
      "                - WDBC-Benign\n",
      "\n",
      "    :Summary Statistics:\n",
      "\n",
      "    ===================================== ====== ======\n",
      "                                           Min    Max\n",
      "    ===================================== ====== ======\n",
      "    radius (mean):                        6.981  28.11\n",
      "    texture (mean):                       9.71   39.28\n",
      "    perimeter (mean):                     43.79  188.5\n",
      "    area (mean):                          143.5  2501.0\n",
      "    smoothness (mean):                    0.053  0.163\n",
      "    compactness (mean):                   0.019  0.345\n",
      "    concavity (mean):                     0.0    0.427\n",
      "    concave points (mean):                0.0    0.201\n",
      "    symmetry (mean):                      0.106  0.304\n",
      "    fractal dimension (mean):             0.05   0.097\n",
      "    radius (standard error):              0.112  2.873\n",
      "    texture (standard error):             0.36   4.885\n",
      "    perimeter (standard error):           0.757  21.98\n",
      "    area (standard error):                6.802  542.2\n",
      "    smoothness (standard error):          0.002  0.031\n",
      "    compactness (standard error):         0.002  0.135\n",
      "    concavity (standard error):           0.0    0.396\n",
      "    concave points (standard error):      0.0    0.053\n",
      "    symmetry (standard error):            0.008  0.079\n",
      "    fractal dimension (standard error):   0.001  0.03\n",
      "    radius (worst):                       7.93   36.04\n",
      "    texture (worst):                      12.02  49.54\n",
      "    perimeter (worst):                    50.41  251.2\n",
      "    area (worst):                         185.2  4254.0\n",
      "    smoothness (worst):                   0.071  0.223\n",
      "    compactness (worst):                  0.027  1.058\n",
      "    concavity (worst):                    0.0    1.252\n",
      "    concave points (worst):               0.0    0.291\n",
      "    symmetry (worst):                     0.156  0.664\n",
      "    fractal dimension (worst):            0.055  0.208\n",
      "    ===================================== ====== ======\n",
      "\n",
      "    :Missing Attribute Values: None\n",
      "\n",
      "    :Class Distribution: 212 - Malignant, 357 - Benign\n",
      "\n",
      "    :Creator:  Dr. William H. Wolberg, W. Nick Street, Olvi L. Mangasarian\n",
      "\n",
      "    :Donor: Nick Street\n",
      "\n",
      "    :Date: November, 1995\n",
      "\n",
      "This is a copy of UCI ML Breast Cancer Wisconsin (Diagnostic) datasets.\n",
      "https://goo.gl/U2Uwz2\n",
      "\n",
      "Features are computed from a digitized image of a fine needle\n",
      "aspirate (FNA) of a breast mass.  They describe\n",
      "characteristics of the cell nuclei present in the image.\n",
      "\n",
      "Separating plane described above was obtained using\n",
      "Multisurface Method-Tree (MSM-T) [K. P. Bennett, \"Decision Tree\n",
      "Construction Via Linear Programming.\" Proceedings of the 4th\n",
      "Midwest Artificial Intelligence and Cognitive Science Society,\n",
      "pp. 97-101, 1992], a classification method which uses linear\n",
      "programming to construct a decision tree.  Relevant features\n",
      "were selected using an exhaustive search in the space of 1-4\n",
      "features and 1-3 separating planes.\n",
      "\n",
      "The actual linear program used to obtain the separating plane\n",
      "in the 3-dimensional space is that described in:\n",
      "[K. P. Bennett and O. L. Mangasarian: \"Robust Linear\n",
      "Programming Discrimination of Two Linearly Inseparable Sets\",\n",
      "Optimization Methods and Software 1, 1992, 23-34].\n",
      "\n",
      "This database is also available through the UW CS ftp server:\n",
      "\n",
      "ftp ftp.cs.wisc.edu\n",
      "cd math-prog/cpo-dataset/machine-learn/WDBC/\n",
      "\n",
      ".. topic:: References\n",
      "\n",
      "   - W.N. Street, W.H. Wolberg and O.L. Mangasarian. Nuclear feature extraction \n",
      "     for breast tumor diagnosis. IS&T/SPIE 1993 International Symposium on \n",
      "     Electronic Imaging: Science and Technology, volume 1905, pages 861-870,\n",
      "     San Jose, CA, 1993.\n",
      "   - O.L. Mangasarian, W.N. Street and W.H. Wolberg. Breast cancer diagnosis and \n",
      "     prognosis via linear programming. Operations Research, 43(4), pages 570-577, \n",
      "     July-August 1995.\n",
      "   - W.H. Wolberg, W.N. Street, and O.L. Mangasarian. Machine learning techniques\n",
      "     to diagnose breast cancer from fine-needle aspirates. Cancer Letters 77 (1994) \n",
      "     163-171.\n"
     ]
    }
   ],
   "source": [
    "print(data.DESCR)"
   ]
  },
  {
   "cell_type": "markdown",
   "metadata": {},
   "source": [
    "A subset of these 569 samples are labeled as malignant and others as benign."
   ]
  },
  {
   "cell_type": "code",
   "execution_count": 4,
   "metadata": {},
   "outputs": [
    {
     "data": {
      "text/plain": [
       "array([0, 1])"
      ]
     },
     "execution_count": 4,
     "metadata": {},
     "output_type": "execute_result"
    }
   ],
   "source": [
    "# 0 - Malignant, 1 - benign\n",
    "target = data.target\n",
    "\n",
    "np.unique(target)"
   ]
  },
  {
   "cell_type": "code",
   "execution_count": 5,
   "metadata": {},
   "outputs": [
    {
     "name": "stdout",
     "output_type": "stream",
     "text": [
      "There are  212  samples labeled as malignant\n",
      "There are  357  samples labeled as benign\n"
     ]
    }
   ],
   "source": [
    "print('There are ',np.sum(target==0),' samples labeled as malignant')\n",
    "print('There are ',np.sum(target==1),' samples labeled as benign')"
   ]
  },
  {
   "cell_type": "markdown",
   "metadata": {},
   "source": [
    "For this problem, let's consider the first two features only. Those are the radius and texture:"
   ]
  },
  {
   "cell_type": "code",
   "execution_count": 6,
   "metadata": {},
   "outputs": [
    {
     "name": "stdout",
     "output_type": "stream",
     "text": [
      "(569, 2)\n"
     ]
    }
   ],
   "source": [
    "X = data.data[:,0:2]\n",
    "\n",
    "print(X.shape)"
   ]
  },
  {
   "cell_type": "markdown",
   "metadata": {},
   "source": [
    "The matrix X contains all samples for these 2 features. We can further separate them into malignant samples and benign samples:"
   ]
  },
  {
   "cell_type": "code",
   "execution_count": 7,
   "metadata": {},
   "outputs": [
    {
     "name": "stdout",
     "output_type": "stream",
     "text": [
      "(212, 2) (357, 2)\n"
     ]
    }
   ],
   "source": [
    "X_mal = X[target==0,:]\n",
    "X_ben = X[target==1,:]\n",
    "\n",
    "print(X_mal.shape, X_ben.shape)"
   ]
  },
  {
   "cell_type": "markdown",
   "metadata": {},
   "source": [
    "# Problem\n",
    "\n",
    "Answer the following questions:\n",
    "\n",
    "1. Compute the MLE estimate for the mean and covariance matrix for both classes.\n",
    "\n",
    "2. Compute the prior probabilities for both classes.\n",
    "\n",
    "3. Compute and display (using ```imshow```) the data likelihood for both classes.\n",
    "\n",
    "4. Compute the posterior distribution for both classes, and plot the decision boundary.\n",
    "\n",
    "5. Suppose that the hospital collected another FNA and measured an average radius of 18 and an average texture of 22. Using your classifier, how would you classify that new point? How confident are you in that decision?\n",
    "\n",
    "6. Consider another new sample with radius 30 and texture 30. What classification would you report back to the doctor? How confident are you in that decision?"
   ]
  },
  {
   "cell_type": "markdown",
   "metadata": {},
   "source": [
    "# Submit Your Solution\n",
    "\n",
    "Confirm that you've successfully completed the assignment.\n",
    "\n",
    "Along with the Notebook, include a PDF of the notebook with your solutions.\n",
    "\n",
    "```add``` and ```commit``` the final version of your work, and ```push``` your code to your GitHub repository.\n",
    "\n",
    "Submit the URL of your GitHub Repository as your assignment submission on Canvas."
   ]
  },
  {
   "cell_type": "markdown",
   "metadata": {},
   "source": [
    "# Completed by AJ Adams"
   ]
  },
  {
   "cell_type": "markdown",
   "metadata": {},
   "source": [
    "### 1. Compute the MLE estimate for the mean and covariance matrix for both classes."
   ]
  },
  {
   "cell_type": "code",
   "execution_count": 8,
   "metadata": {},
   "outputs": [
    {
     "name": "stdout",
     "output_type": "stream",
     "text": [
      "[17.46283019 21.60490566]\n",
      "[[10.26543081  1.28984055]\n",
      " [ 1.28984055 14.28439288]]\n"
     ]
    }
   ],
   "source": [
    "mu1 = np.mean(X_mal, axis=0) #mean of malign\n",
    "print(mu1)\n",
    "\n",
    "cov1 = np.cov(X_mal.T) #covariance of malign\n",
    "print(cov1)"
   ]
  },
  {
   "cell_type": "code",
   "execution_count": 9,
   "metadata": {},
   "outputs": [
    {
     "name": "stdout",
     "output_type": "stream",
     "text": [
      "[12.14652381 17.9147619 ]\n",
      "[[ 3.17022172 -0.26426039]\n",
      " [-0.26426039 15.96102052]]\n"
     ]
    }
   ],
   "source": [
    "mu2 = np.mean(X_ben, axis=0) #mean of benign\n",
    "print(mu2)\n",
    "\n",
    "cov2 = np.cov(X_ben.T) #covariance of benign\n",
    "print(cov2)"
   ]
  },
  {
   "cell_type": "markdown",
   "metadata": {},
   "source": [
    "### 2. Compute the prior probabilities for both classes."
   ]
  },
  {
   "cell_type": "code",
   "execution_count": 10,
   "metadata": {},
   "outputs": [
    {
     "name": "stdout",
     "output_type": "stream",
     "text": [
      "Probability of malign: 0.37258347978910367\n",
      "Probability of benign: 0.6274165202108963\n"
     ]
    }
   ],
   "source": [
    "pC1 = X_mal.shape[0]/(X_mal.shape[0] + X_ben.shape[0])\n",
    "print('Probability of malign:',pC1)\n",
    "\n",
    "pC2 = X_ben.shape[0]/(X_mal.shape[0] + X_ben.shape[0])\n",
    "print('Probability of benign:',pC2)"
   ]
  },
  {
   "cell_type": "markdown",
   "metadata": {},
   "source": [
    "### 3. Compute and display (using ```imshow```) the data likelihood for both classes."
   ]
  },
  {
   "cell_type": "code",
   "execution_count": 11,
   "metadata": {},
   "outputs": [
    {
     "data": {
      "image/png": "[encoded data removed]",
      "text/plain": [
       "<Figure size 432x288 with 1 Axes>"
      ]
     },
     "metadata": {
      "needs_background": "light"
     },
     "output_type": "display_data"
    },
    {
     "data": {
      "image/png": "[encoded data removed]",
      "text/plain": [
       "<Figure size 432x288 with 1 Axes>"
      ]
     },
     "metadata": {
      "needs_background": "light"
     },
     "output_type": "display_data"
    }
   ],
   "source": [
    "from scipy.stats import multivariate_normal\n",
    "\n",
    "x = np.linspace(6, 30, 100) #6.981 min 28.11 max -- radius\n",
    "y = np.linspace(9, 40, 100) #9.71 min 39.28 max -- texture\n",
    "xm, ym = np.meshgrid(x, y)\n",
    "X = np.dstack([xm,ym])\n",
    "\n",
    "y1 = multivariate_normal.pdf(X, mean=mu1, cov=cov1)\n",
    "y2 = multivariate_normal.pdf(X, mean=mu2, cov=cov2)\n",
    "\n",
    "plt.imshow(y1, extent=[6,30,40,9]); plt.xlabel('Radius'); plt.ylabel('Texture'); plt.title('pdf for Malign'); plt.show()\n",
    "plt.imshow(y2, extent=[6,30,40,9]); plt.xlabel('Radius'); plt.ylabel('Texture'); plt.title('pdf for Benign'); plt.show()\n",
    "\n",
    "#17.46283019 21.60490566 -- mal\n",
    "#12.14652381 17.9147619 -- ben\n",
    "#Based off of the graphs, you can see that they correspond to the averages computed in question 1"
   ]
  },
  {
   "cell_type": "markdown",
   "metadata": {},
   "source": [
    "### 4. Compute the posterior distribution for both classes, and plot the decision boundary."
   ]
  },
  {
   "cell_type": "code",
   "execution_count": 12,
   "metadata": {},
   "outputs": [
    {
     "data": {
      "image/png": "[encoded data removed]",
      "text/plain": [
       "<Figure size 432x288 with 1 Axes>"
      ]
     },
     "metadata": {
      "needs_background": "light"
     },
     "output_type": "display_data"
    },
    {
     "data": {
      "image/png": "[encoded data removed]",
      "text/plain": [
       "<Figure size 432x288 with 1 Axes>"
      ]
     },
     "metadata": {
      "needs_background": "light"
     },
     "output_type": "display_data"
    }
   ],
   "source": [
    "pos1 = (y1*pC1)/(y1*pC1 + y2*pC2) # using the Bayes' rule\n",
    "pos2 = (y2*pC2)/(y1*pC1 + y2*pC2) # using the Bayes' rule\n",
    "\n",
    "plt.imshow(pos1, extent=[6,30,40,9]);plt.xlabel('Radius'); plt.ylabel('Texture'); plt.title('Malign') #Malign posterior distribution\n",
    "plt.show()\n",
    "plt.imshow(pos2, extent=[6,30,40,9]);plt.xlabel('Radius'); plt.ylabel('Texture'); plt.title('Benign') #Benign posterior distribution\n",
    "plt.show()"
   ]
  },
  {
   "cell_type": "code",
   "execution_count": 13,
   "metadata": {},
   "outputs": [
    {
     "data": {
      "image/png": "[encoded data removed]",
      "text/plain": [
       "<Figure size 432x288 with 1 Axes>"
      ]
     },
     "metadata": {
      "needs_background": "light"
     },
     "output_type": "display_data"
    }
   ],
   "source": [
    "plt.imshow(pos1>pos2, extent=[6,30,40,9])\n",
    "plt.xlabel('Radius') \n",
    "plt.ylabel('Texture')\n",
    "plt.title('Region to Decide Malignant');"
   ]
  },
  {
   "cell_type": "markdown",
   "metadata": {},
   "source": [
    "### 5. Suppose that the hospital collected another FNA and measured an average radius of 18 and an average texture of 22. Using your classifier, how would you classify that new point? How confident are you in that decision?"
   ]
  },
  {
   "cell_type": "code",
   "execution_count": 14,
   "metadata": {},
   "outputs": [
    {
     "name": "stdout",
     "output_type": "stream",
     "text": [
      "Assign it to Malignant with probability  0.9932670147244329 and confidence prob. 0.012984476229293579\n"
     ]
    }
   ],
   "source": [
    "y1_newpoint = multivariate_normal.pdf([18,22],mean=mu1, cov=cov1)\n",
    "y2_newpoint = multivariate_normal.pdf([18,22], mean=mu2, cov=cov2)\n",
    "\n",
    "pos1 = (y1_newpoint*pC1)/(y1_newpoint*pC1 + y2_newpoint*pC2)\n",
    "pos2 = (y2_newpoint*pC2)/(y1_newpoint*pC1 + y2_newpoint*pC2)\n",
    "if pos1>pos2:\n",
    "    print('Assign it to Malignant with probability ',pos1,'and confidence prob.',y1_newpoint)\n",
    "else:\n",
    "    print('Assign it to Benign with probability ',pos2,'and confidence prob.',y2_newpoint)"
   ]
  },
  {
   "cell_type": "markdown",
   "metadata": {},
   "source": [
    "### 6. Consider another new sample with radius 30 and texture 30. What classification would you report back to the doctor? How confident are you in that decision?"
   ]
  },
  {
   "cell_type": "code",
   "execution_count": 15,
   "metadata": {},
   "outputs": [
    {
     "name": "stdout",
     "output_type": "stream",
     "text": [
      "Assign it to Malignant with probability  1.0 and confidence prob. 1.2054634203690417e-06\n"
     ]
    }
   ],
   "source": [
    "y1_newpoint = multivariate_normal.pdf([30,30],mean=mu1, cov=cov1)\n",
    "y2_newpoint = multivariate_normal.pdf([30,30], mean=mu2, cov=cov2)\n",
    "\n",
    "pos1 = (y1_newpoint*pC1)/(y1_newpoint*pC1 + y2_newpoint*pC2)\n",
    "pos2 = (y2_newpoint*pC2)/(y1_newpoint*pC1 + y2_newpoint*pC2)\n",
    "if pos1>pos2:\n",
    "    print('Assign it to Malignant with probability ',pos1,'and confidence prob.',y1_newpoint)\n",
    "else:\n",
    "    print('Assign it to Benign with probability ',pos2,'and confidence prob.',y2_newpoint)\n",
    "#not high confidence as point is super high"
   ]
  }
 ],
 "metadata": {
  "kernelspec": {
   "display_name": "Python 3",
   "language": "python",
   "name": "python3"
  },
  "language_info": {
   "codemirror_mode": {
    "name": "ipython",
    "version": 3
   },
   "file_extension": ".py",
   "mimetype": "text/x-python",
   "name": "python",
   "nbconvert_exporter": "python",
   "pygments_lexer": "ipython3",
   "version": "3.8.3"
  },
  "latex_envs": {
   "LaTeX_envs_menu_present": true,
   "autoclose": true,
   "autocomplete": true,
   "bibliofile": "biblio.bib",
   "cite_by": "apalike",
   "current_citInitial": 1,
   "eqLabelWithNumbers": true,
   "eqNumInitial": 1,
   "hotkeys": {
    "equation": "Ctrl-E",
    "itemize": "Ctrl-I"
   },
   "labels_anchors": false,
   "latex_user_defs": false,
   "report_style_numbering": false,
   "user_envs_cfg": false
  },
  "varInspector": {
   "cols": {
    "lenName": 16,
    "lenType": 16,
    "lenVar": 40
   },
   "kernels_config": {
    "python": {
     "delete_cmd_postfix": "",
     "delete_cmd_prefix": "del ",
     "library": "var_list.py",
     "varRefreshCmd": "print(var_dic_list())"
    },
    "r": {
     "delete_cmd_postfix": ") ",
     "delete_cmd_prefix": "rm(",
     "library": "var_list.r",
     "varRefreshCmd": "cat(var_dic_list()) "
    }
   },
   "types_to_exclude": [
    "module",
    "function",
    "builtin_function_or_method",
    "instance",
    "_Feature"
   ],
   "window_display": false
  }
 },
 "nbformat": 4,
 "nbformat_minor": 2
}
